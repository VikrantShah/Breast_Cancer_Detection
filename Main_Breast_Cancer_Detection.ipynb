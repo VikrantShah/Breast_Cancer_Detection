{
 "cells": [
  {
   "cell_type": "markdown",
   "metadata": {},
   "source": [
    "# Importing the Libraries"
   ]
  },
  {
   "cell_type": "code",
   "execution_count": 1,
   "metadata": {},
   "outputs": [],
   "source": [
    "from tensorflow import keras\n",
    "from tensorflow.keras.preprocessing.image import ImageDataGenerator\n",
    "from tensorflow.keras.models import Sequential\n",
    "from tensorflow.keras.layers import Conv2D\n",
    "from tensorflow.keras.layers import MaxPooling2D\n",
    "from tensorflow.keras.layers import Flatten\n",
    "from tensorflow.keras.layers import Dense\n",
    "from tensorflow.keras.callbacks import EarlyStopping\n",
    "from tensorflow.keras.callbacks import ModelCheckpoint\n",
    "import matplotlib.pyplot as plt"
   ]
  },
  {
   "cell_type": "markdown",
   "metadata": {},
   "source": [
    "# Getting and loading the Training, Testing and Validation set"
   ]
  },
  {
   "cell_type": "code",
   "execution_count": 2,
   "metadata": {},
   "outputs": [],
   "source": [
    "train_path = r\"C:\\AI-DocHelper_Models_Code\\Breast_Cancer_Detection\\dataset\\train\"\n",
    "validation_path = r\"C:\\AI-DocHelper_Models_Code\\Breast_Cancer_Detection\\dataset\\val\"\n",
    "test_path = r\"C:\\AI-DocHelper_Models_Code\\Breast_Cancer_Detection\\dataset\\test\""
   ]
  },
  {
   "cell_type": "code",
   "execution_count": 3,
   "metadata": {},
   "outputs": [],
   "source": [
    "batch_size = 16\n",
    "img_size = (256, 256)"
   ]
  },
  {
   "cell_type": "code",
   "execution_count": 4,
   "metadata": {},
   "outputs": [],
   "source": [
    "train_datagen = ImageDataGenerator(rescale = 1./255,\n",
    "                                  rotation_range = 40.,\n",
    "                                  width_shift_range = 0.2,\n",
    "                                  height_shift_range = 0.2,\n",
    "                                  shear_range = 0.2,\n",
    "                                  zoom_range = 0.2,\n",
    "                                  horizontal_flip = True)\n",
    "\n",
    "validation_datagen = ImageDataGenerator(rescale = 1./255)"
   ]
  },
  {
   "cell_type": "code",
   "execution_count": 5,
   "metadata": {},
   "outputs": [
    {
     "name": "stdout",
     "output_type": "stream",
     "text": [
      "Found 1182 images belonging to 3 classes.\n",
      "Found 393 images belonging to 3 classes.\n",
      "Found 3 images belonging to 3 classes.\n"
     ]
    }
   ],
   "source": [
    "train_generator = train_datagen.flow_from_directory(train_path,\n",
    "                                                   target_size = img_size,\n",
    "                                                   batch_size = batch_size,\n",
    "                                                    color_mode = \"grayscale\",\n",
    "                                                   class_mode = \"categorical\")\n",
    "\n",
    "validation_generator = validation_datagen.flow_from_directory(validation_path,\n",
    "                                                             target_size = img_size,\n",
    "                                                             batch_size = batch_size,\n",
    "                                                              color_mode = \"grayscale\",\n",
    "                                                             class_mode = \"categorical\")\n",
    "\n",
    "test_generator = validation_datagen.flow_from_directory(test_path,\n",
    "                                                       target_size = img_size,\n",
    "                                                       batch_size = batch_size,\n",
    "                                                       color_mode = \"grayscale\",\n",
    "                                                       class_mode = \"categorical\",\n",
    "                                                       shuffle = False)"
   ]
  },
  {
   "cell_type": "markdown",
   "metadata": {},
   "source": [
    "# Getting the class names"
   ]
  },
  {
   "cell_type": "code",
   "execution_count": 6,
   "metadata": {},
   "outputs": [
    {
     "name": "stdout",
     "output_type": "stream",
     "text": [
      "{0: 'benign', 1: 'malignant', 2: 'normal'}\n"
     ]
    }
   ],
   "source": [
    "temp_classes = dict(train_generator.class_indices)\n",
    "\n",
    "classes = dict()\n",
    "for (k, v) in temp_classes.items() :\n",
    "    classes[v] = k\n",
    "print(classes)"
   ]
  },
  {
   "cell_type": "markdown",
   "metadata": {},
   "source": [
    "# Building the CNN"
   ]
  },
  {
   "cell_type": "markdown",
   "metadata": {},
   "source": [
    "## Initalising the CNN"
   ]
  },
  {
   "cell_type": "code",
   "execution_count": 7,
   "metadata": {},
   "outputs": [],
   "source": [
    "model = Sequential()"
   ]
  },
  {
   "cell_type": "markdown",
   "metadata": {},
   "source": [
    "# Adding the layers"
   ]
  },
  {
   "cell_type": "markdown",
   "metadata": {},
   "source": [
    "## Adding the First Convolutional and Pooling layers"
   ]
  },
  {
   "cell_type": "code",
   "execution_count": 8,
   "metadata": {},
   "outputs": [],
   "source": [
    "model.add(Conv2D(32, (3, 3), input_shape = (img_size[0], img_size[1], 1), activation = \"relu\"))\n",
    "model.add(MaxPooling2D(pool_size = (2, 2)))"
   ]
  },
  {
   "cell_type": "markdown",
   "metadata": {},
   "source": [
    "## Adding the Second Convolutional and Pooling layers"
   ]
  },
  {
   "cell_type": "code",
   "execution_count": 9,
   "metadata": {},
   "outputs": [],
   "source": [
    "model.add(Conv2D(32, (3, 3), input_shape = (img_size[0], img_size[1], 1), activation = \"relu\"))\n",
    "model.add(MaxPooling2D(pool_size = (2, 2)))"
   ]
  },
  {
   "cell_type": "markdown",
   "metadata": {},
   "source": [
    "## Adding the Third Convolutional and Pooling layers"
   ]
  },
  {
   "cell_type": "code",
   "execution_count": 10,
   "metadata": {},
   "outputs": [],
   "source": [
    "model.add(Conv2D(64, (3, 3), input_shape = (img_size[0], img_size[1], 1), activation = \"relu\"))\n",
    "model.add(MaxPooling2D(pool_size = (2, 2)))"
   ]
  },
  {
   "cell_type": "markdown",
   "metadata": {},
   "source": [
    "## Adding the Forth Convolutional and Pooling layers"
   ]
  },
  {
   "cell_type": "code",
   "execution_count": 11,
   "metadata": {},
   "outputs": [],
   "source": [
    "model.add(Conv2D(64, (3, 3), input_shape = (img_size[0], img_size[1], 1), activation = \"relu\"))\n",
    "model.add(MaxPooling2D(pool_size = (2, 2)))"
   ]
  },
  {
   "cell_type": "markdown",
   "metadata": {},
   "source": [
    "## Adding the Fifth Convolutional and Pooling layers"
   ]
  },
  {
   "cell_type": "code",
   "execution_count": 12,
   "metadata": {},
   "outputs": [],
   "source": [
    "model.add(Conv2D(128, (3, 3), input_shape = (img_size[0], img_size[1], 1), activation = \"relu\"))\n",
    "model.add(MaxPooling2D(pool_size = (2, 2)))"
   ]
  },
  {
   "cell_type": "markdown",
   "metadata": {},
   "source": [
    "## Adding the Sixth Convolutional and Pooling layers"
   ]
  },
  {
   "cell_type": "code",
   "execution_count": 13,
   "metadata": {},
   "outputs": [],
   "source": [
    "model.add(Conv2D(128, (3, 3), input_shape = (img_size[0], img_size[1], 1), activation = \"relu\"))\n",
    "model.add(MaxPooling2D(pool_size = (2, 2)))"
   ]
  },
  {
   "cell_type": "markdown",
   "metadata": {},
   "source": [
    "# Flattening all the layers"
   ]
  },
  {
   "cell_type": "code",
   "execution_count": 14,
   "metadata": {},
   "outputs": [],
   "source": [
    "model.add(Flatten())"
   ]
  },
  {
   "cell_type": "markdown",
   "metadata": {},
   "source": [
    "## Adding the First Fully Connected Layer"
   ]
  },
  {
   "cell_type": "code",
   "execution_count": 15,
   "metadata": {},
   "outputs": [],
   "source": [
    "model.add(Dense(units = 128, activation = \"relu\"))"
   ]
  },
  {
   "cell_type": "markdown",
   "metadata": {},
   "source": [
    "## Adding the Second Fully Connected Layer"
   ]
  },
  {
   "cell_type": "code",
   "execution_count": 16,
   "metadata": {},
   "outputs": [],
   "source": [
    "model.add(Dense(units = 64, activation = \"relu\"))"
   ]
  },
  {
   "cell_type": "markdown",
   "metadata": {},
   "source": [
    "## Adding the Third Fully Connected Layer"
   ]
  },
  {
   "cell_type": "code",
   "execution_count": 17,
   "metadata": {},
   "outputs": [],
   "source": [
    "model.add(Dense(units = 32, activation = \"relu\"))"
   ]
  },
  {
   "cell_type": "markdown",
   "metadata": {},
   "source": [
    "## Adding the Final Fully Connected Layer"
   ]
  },
  {
   "cell_type": "code",
   "execution_count": 18,
   "metadata": {},
   "outputs": [],
   "source": [
    "model.add(Dense(units = 3, activation = \"sigmoid\"))"
   ]
  },
  {
   "cell_type": "markdown",
   "metadata": {},
   "source": [
    "## Displaying the model summary"
   ]
  },
  {
   "cell_type": "code",
   "execution_count": 19,
   "metadata": {},
   "outputs": [
    {
     "name": "stdout",
     "output_type": "stream",
     "text": [
      "Model: \"sequential\"\n",
      "_________________________________________________________________\n",
      "Layer (type)                 Output Shape              Param #   \n",
      "=================================================================\n",
      "conv2d (Conv2D)              (None, 254, 254, 32)      320       \n",
      "_________________________________________________________________\n",
      "max_pooling2d (MaxPooling2D) (None, 127, 127, 32)      0         \n",
      "_________________________________________________________________\n",
      "conv2d_1 (Conv2D)            (None, 125, 125, 32)      9248      \n",
      "_________________________________________________________________\n",
      "max_pooling2d_1 (MaxPooling2 (None, 62, 62, 32)        0         \n",
      "_________________________________________________________________\n",
      "conv2d_2 (Conv2D)            (None, 60, 60, 64)        18496     \n",
      "_________________________________________________________________\n",
      "max_pooling2d_2 (MaxPooling2 (None, 30, 30, 64)        0         \n",
      "_________________________________________________________________\n",
      "conv2d_3 (Conv2D)            (None, 28, 28, 64)        36928     \n",
      "_________________________________________________________________\n",
      "max_pooling2d_3 (MaxPooling2 (None, 14, 14, 64)        0         \n",
      "_________________________________________________________________\n",
      "conv2d_4 (Conv2D)            (None, 12, 12, 128)       73856     \n",
      "_________________________________________________________________\n",
      "max_pooling2d_4 (MaxPooling2 (None, 6, 6, 128)         0         \n",
      "_________________________________________________________________\n",
      "conv2d_5 (Conv2D)            (None, 4, 4, 128)         147584    \n",
      "_________________________________________________________________\n",
      "max_pooling2d_5 (MaxPooling2 (None, 2, 2, 128)         0         \n",
      "_________________________________________________________________\n",
      "flatten (Flatten)            (None, 512)               0         \n",
      "_________________________________________________________________\n",
      "dense (Dense)                (None, 128)               65664     \n",
      "_________________________________________________________________\n",
      "dense_1 (Dense)              (None, 64)                8256      \n",
      "_________________________________________________________________\n",
      "dense_2 (Dense)              (None, 32)                2080      \n",
      "_________________________________________________________________\n",
      "dense_3 (Dense)              (None, 3)                 99        \n",
      "=================================================================\n",
      "Total params: 362,531\n",
      "Trainable params: 362,531\n",
      "Non-trainable params: 0\n",
      "_________________________________________________________________\n"
     ]
    }
   ],
   "source": [
    "model.summary()"
   ]
  },
  {
   "cell_type": "markdown",
   "metadata": {},
   "source": [
    "## Compiling the CNN model"
   ]
  },
  {
   "cell_type": "code",
   "execution_count": 20,
   "metadata": {},
   "outputs": [],
   "source": [
    "model.compile(optimizer = \"adam\",\n",
    "             loss = \"categorical_crossentropy\", \n",
    "             metrics = [\"accuracy\"])"
   ]
  },
  {
   "cell_type": "markdown",
   "metadata": {},
   "source": [
    "# Training the CNN"
   ]
  },
  {
   "cell_type": "markdown",
   "metadata": {},
   "source": [
    "## Saving the Best model only"
   ]
  },
  {
   "cell_type": "code",
   "execution_count": 21,
   "metadata": {},
   "outputs": [],
   "source": [
    "checkpoint = ModelCheckpoint(filepath = \"breast_cancer.h5\",\n",
    "                            save_best_only = True)"
   ]
  },
  {
   "cell_type": "markdown",
   "metadata": {},
   "source": [
    "## Stopping the Training, if there is no improvement"
   ]
  },
  {
   "cell_type": "code",
   "execution_count": 22,
   "metadata": {},
   "outputs": [],
   "source": [
    "earlyStopping = EarlyStopping(monitor=\"val_loss\", \n",
    "                              patience = 10,\n",
    "                             restore_best_weights = True,\n",
    "                             verbose = 1)"
   ]
  },
  {
   "cell_type": "markdown",
   "metadata": {},
   "source": [
    "## Calculating the steps_per_epoch and validation_steps"
   ]
  },
  {
   "cell_type": "code",
   "execution_count": 23,
   "metadata": {},
   "outputs": [
    {
     "name": "stdout",
     "output_type": "stream",
     "text": [
      "74\n",
      "25\n"
     ]
    }
   ],
   "source": [
    "import math\n",
    "\n",
    "batch_size = batch_size\n",
    "training_size = 1182\n",
    "validation_size = 393\n",
    "\n",
    "compute_steps_per_epoch = lambda x : int(math.ceil(1. * x / batch_size))\n",
    "\n",
    "steps_per_epoch = compute_steps_per_epoch(training_size)\n",
    "validation_steps = compute_steps_per_epoch(validation_size)\n",
    "\n",
    "print(steps_per_epoch)\n",
    "print(validation_steps)"
   ]
  },
  {
   "cell_type": "code",
   "execution_count": 24,
   "metadata": {},
   "outputs": [
    {
     "name": "stderr",
     "output_type": "stream",
     "text": [
      "C:\\Users\\RAJ SHAH\\anaconda3\\lib\\site-packages\\tensorflow\\python\\keras\\engine\\training.py:1844: UserWarning: `Model.fit_generator` is deprecated and will be removed in a future version. Please use `Model.fit`, which supports generators.\n",
      "  warnings.warn('`Model.fit_generator` is deprecated and '\n"
     ]
    },
    {
     "name": "stdout",
     "output_type": "stream",
     "text": [
      "Epoch 1/50\n",
      "74/74 [==============================] - 44s 583ms/step - loss: 0.9475 - accuracy: 0.5663 - val_loss: 0.8376 - val_accuracy: 0.5598\n",
      "Epoch 2/50\n",
      "74/74 [==============================] - 40s 544ms/step - loss: 0.8538 - accuracy: 0.5991 - val_loss: 0.7629 - val_accuracy: 0.6463\n",
      "Epoch 3/50\n",
      "74/74 [==============================] - 42s 566ms/step - loss: 0.7596 - accuracy: 0.6517 - val_loss: 0.7239 - val_accuracy: 0.6667\n",
      "Epoch 4/50\n",
      "74/74 [==============================] - 42s 566ms/step - loss: 0.7288 - accuracy: 0.6721 - val_loss: 0.6950 - val_accuracy: 0.6718\n",
      "Epoch 5/50\n",
      "74/74 [==============================] - 42s 560ms/step - loss: 0.7194 - accuracy: 0.6627 - val_loss: 0.6769 - val_accuracy: 0.6845\n",
      "Epoch 6/50\n",
      "74/74 [==============================] - 41s 557ms/step - loss: 0.7106 - accuracy: 0.6816 - val_loss: 0.6575 - val_accuracy: 0.6794\n",
      "Epoch 7/50\n",
      "74/74 [==============================] - 42s 562ms/step - loss: 0.7303 - accuracy: 0.6440 - val_loss: 0.6471 - val_accuracy: 0.7099\n",
      "Epoch 8/50\n",
      "74/74 [==============================] - 43s 573ms/step - loss: 0.7375 - accuracy: 0.6450 - val_loss: 0.6188 - val_accuracy: 0.6997\n",
      "Epoch 9/50\n",
      "74/74 [==============================] - 40s 537ms/step - loss: 0.6997 - accuracy: 0.6730 - val_loss: 0.6273 - val_accuracy: 0.7125\n",
      "Epoch 10/50\n",
      "74/74 [==============================] - 42s 562ms/step - loss: 0.6598 - accuracy: 0.6918 - val_loss: 0.5864 - val_accuracy: 0.7328\n",
      "Epoch 11/50\n",
      "74/74 [==============================] - 40s 542ms/step - loss: 0.6320 - accuracy: 0.7188 - val_loss: 0.6237 - val_accuracy: 0.7125\n",
      "Epoch 12/50\n",
      "74/74 [==============================] - 39s 531ms/step - loss: 0.6775 - accuracy: 0.6920 - val_loss: 0.7683 - val_accuracy: 0.6489\n",
      "Epoch 13/50\n",
      "74/74 [==============================] - 39s 532ms/step - loss: 0.7120 - accuracy: 0.6750 - val_loss: 0.5507 - val_accuracy: 0.7405\n",
      "Epoch 14/50\n",
      "74/74 [==============================] - 42s 561ms/step - loss: 0.6183 - accuracy: 0.7338 - val_loss: 0.6139 - val_accuracy: 0.6896\n",
      "Epoch 15/50\n",
      "74/74 [==============================] - 43s 579ms/step - loss: 0.6448 - accuracy: 0.7173 - val_loss: 0.5489 - val_accuracy: 0.7735\n",
      "Epoch 16/50\n",
      "74/74 [==============================] - 44s 600ms/step - loss: 0.6065 - accuracy: 0.7082 - val_loss: 0.5498 - val_accuracy: 0.7328\n",
      "Epoch 17/50\n",
      "74/74 [==============================] - 44s 589ms/step - loss: 0.5822 - accuracy: 0.7292 - val_loss: 0.4939 - val_accuracy: 0.7786\n",
      "Epoch 18/50\n",
      "74/74 [==============================] - 46s 614ms/step - loss: 0.5607 - accuracy: 0.7302 - val_loss: 0.5012 - val_accuracy: 0.7761\n",
      "Epoch 19/50\n",
      "74/74 [==============================] - 46s 624ms/step - loss: 0.5428 - accuracy: 0.7646 - val_loss: 0.4359 - val_accuracy: 0.7990\n",
      "Epoch 20/50\n",
      "74/74 [==============================] - 46s 617ms/step - loss: 0.5298 - accuracy: 0.7727 - val_loss: 0.4776 - val_accuracy: 0.7761\n",
      "Epoch 21/50\n",
      "74/74 [==============================] - 42s 569ms/step - loss: 0.5910 - accuracy: 0.7382 - val_loss: 0.4348 - val_accuracy: 0.8066\n",
      "Epoch 22/50\n",
      "74/74 [==============================] - 43s 586ms/step - loss: 0.5410 - accuracy: 0.7669 - val_loss: 0.7095 - val_accuracy: 0.7506\n",
      "Epoch 23/50\n",
      "74/74 [==============================] - 43s 581ms/step - loss: 0.5020 - accuracy: 0.7780 - val_loss: 0.4331 - val_accuracy: 0.8193\n",
      "Epoch 24/50\n",
      "74/74 [==============================] - 40s 533ms/step - loss: 0.5140 - accuracy: 0.7670 - val_loss: 0.4803 - val_accuracy: 0.7990\n",
      "Epoch 25/50\n",
      "74/74 [==============================] - 40s 537ms/step - loss: 0.4919 - accuracy: 0.7889 - val_loss: 0.4272 - val_accuracy: 0.8295\n",
      "Epoch 26/50\n",
      "74/74 [==============================] - 40s 542ms/step - loss: 0.4445 - accuracy: 0.8007 - val_loss: 0.4444 - val_accuracy: 0.8066\n",
      "Epoch 27/50\n",
      "74/74 [==============================] - 39s 529ms/step - loss: 0.4877 - accuracy: 0.7919 - val_loss: 0.4547 - val_accuracy: 0.8092\n",
      "Epoch 28/50\n",
      "74/74 [==============================] - 39s 530ms/step - loss: 0.4438 - accuracy: 0.8075 - val_loss: 0.3911 - val_accuracy: 0.8219\n",
      "Epoch 29/50\n",
      "74/74 [==============================] - 43s 574ms/step - loss: 0.4262 - accuracy: 0.8086 - val_loss: 0.3896 - val_accuracy: 0.8575\n",
      "Epoch 30/50\n",
      "74/74 [==============================] - 43s 576ms/step - loss: 0.4203 - accuracy: 0.8176 - val_loss: 0.3928 - val_accuracy: 0.8524\n",
      "Epoch 31/50\n",
      "74/74 [==============================] - 42s 560ms/step - loss: 0.4069 - accuracy: 0.8265 - val_loss: 0.3937 - val_accuracy: 0.8397\n",
      "Epoch 32/50\n",
      "74/74 [==============================] - 43s 574ms/step - loss: 0.4605 - accuracy: 0.7973 - val_loss: 0.3973 - val_accuracy: 0.8193\n",
      "Epoch 33/50\n",
      "74/74 [==============================] - 42s 572ms/step - loss: 0.4566 - accuracy: 0.7987 - val_loss: 0.3908 - val_accuracy: 0.8524\n",
      "Epoch 34/50\n",
      "74/74 [==============================] - 43s 582ms/step - loss: 0.4250 - accuracy: 0.8205 - val_loss: 0.3950 - val_accuracy: 0.8372\n",
      "Epoch 35/50\n",
      "74/74 [==============================] - 41s 549ms/step - loss: 0.4381 - accuracy: 0.8190 - val_loss: 0.3819 - val_accuracy: 0.8651\n",
      "Epoch 36/50\n",
      "74/74 [==============================] - 42s 565ms/step - loss: 0.3842 - accuracy: 0.8383 - val_loss: 0.4242 - val_accuracy: 0.8270\n",
      "Epoch 37/50\n",
      "74/74 [==============================] - 42s 561ms/step - loss: 0.3904 - accuracy: 0.8428 - val_loss: 0.3745 - val_accuracy: 0.8524\n",
      "Epoch 38/50\n",
      "74/74 [==============================] - 42s 560ms/step - loss: 0.3943 - accuracy: 0.8296 - val_loss: 0.4322 - val_accuracy: 0.8550\n",
      "Epoch 39/50\n",
      "74/74 [==============================] - 41s 547ms/step - loss: 0.4127 - accuracy: 0.8285 - val_loss: 0.3680 - val_accuracy: 0.8575\n",
      "Epoch 40/50\n",
      "74/74 [==============================] - 40s 536ms/step - loss: 0.4043 - accuracy: 0.8297 - val_loss: 0.4065 - val_accuracy: 0.8651\n",
      "Epoch 41/50\n",
      "74/74 [==============================] - 42s 569ms/step - loss: 0.4173 - accuracy: 0.8256 - val_loss: 0.3993 - val_accuracy: 0.8651\n",
      "Epoch 42/50\n",
      "74/74 [==============================] - 41s 557ms/step - loss: 0.4038 - accuracy: 0.8225 - val_loss: 0.4637 - val_accuracy: 0.8473\n",
      "Epoch 43/50\n",
      "74/74 [==============================] - 42s 565ms/step - loss: 0.4432 - accuracy: 0.8285 - val_loss: 0.3889 - val_accuracy: 0.8524\n",
      "Epoch 44/50\n",
      "74/74 [==============================] - 41s 550ms/step - loss: 0.4193 - accuracy: 0.8314 - val_loss: 0.4328 - val_accuracy: 0.8422\n",
      "Epoch 45/50\n",
      "74/74 [==============================] - 42s 564ms/step - loss: 0.4342 - accuracy: 0.8090 - val_loss: 0.3565 - val_accuracy: 0.8728\n",
      "Epoch 46/50\n",
      "74/74 [==============================] - 42s 563ms/step - loss: 0.3445 - accuracy: 0.8417 - val_loss: 0.3663 - val_accuracy: 0.8651\n",
      "Epoch 47/50\n",
      "74/74 [==============================] - 41s 559ms/step - loss: 0.3547 - accuracy: 0.8455 - val_loss: 0.3877 - val_accuracy: 0.8702\n",
      "Epoch 48/50\n",
      "74/74 [==============================] - 42s 569ms/step - loss: 0.3502 - accuracy: 0.8635 - val_loss: 0.4845 - val_accuracy: 0.8270\n",
      "Epoch 49/50\n",
      "74/74 [==============================] - 42s 568ms/step - loss: 0.4100 - accuracy: 0.8261 - val_loss: 0.3929 - val_accuracy: 0.8626\n",
      "Epoch 50/50\n",
      "74/74 [==============================] - 42s 560ms/step - loss: 0.3124 - accuracy: 0.8736 - val_loss: 0.3867 - val_accuracy: 0.8550\n"
     ]
    }
   ],
   "source": [
    "history = model.fit_generator(train_generator,\n",
    "                             steps_per_epoch = steps_per_epoch,\n",
    "                             epochs = 50,\n",
    "                             validation_data = validation_generator,\n",
    "                             validation_steps = validation_steps,\n",
    "                             callbacks = [checkpoint, earlyStopping])"
   ]
  },
  {
   "cell_type": "markdown",
   "metadata": {},
   "source": [
    "# Saving the model"
   ]
  },
  {
   "cell_type": "code",
   "execution_count": 25,
   "metadata": {},
   "outputs": [],
   "source": [
    "model_json = model.to_json()\n",
    "\n",
    "with open(\"giloma_tumor.json\", \"w\") as json_file :\n",
    "    json_file.write(model_json)"
   ]
  },
  {
   "cell_type": "markdown",
   "metadata": {},
   "source": [
    "# Visualizing the Training Performance"
   ]
  },
  {
   "cell_type": "code",
   "execution_count": 26,
   "metadata": {},
   "outputs": [
    {
     "data": {
      "image/png": "[encoded data removed]",
      "text/plain": [
       "<Figure size 864x864 with 2 Axes>"
      ]
     },
     "metadata": {
      "needs_background": "light"
     },
     "output_type": "display_data"
    }
   ],
   "source": [
    "plt.figure(figsize = (12, 12))\n",
    "\n",
    "plt.subplot(2, 2, 1)\n",
    "plt.plot(history.history[\"accuracy\"], label = \"accuracy\")\n",
    "plt.plot(history.history[\"val_accuracy\"], label = \"val_accuracy\")\n",
    "plt.legend()\n",
    "plt.grid()\n",
    "plt.title(\"Accuracy Evaluation\")\n",
    "\n",
    "plt.subplot(2, 2, 2)\n",
    "plt.plot(history.history[\"loss\"], label = \"loss\")\n",
    "plt.plot(history.history[\"val_loss\"], label = \"val_loss\")\n",
    "plt.grid()\n",
    "plt.legend()\n",
    "plt.title(\"Loss Evaluation\")\n",
    "\n",
    "plt.savefig(\"giloma_tumor_model_history.jpg\")"
   ]
  },
  {
   "cell_type": "markdown",
   "metadata": {},
   "source": [
    "# Getting the accuracy for test set"
   ]
  },
  {
   "cell_type": "code",
   "execution_count": 27,
   "metadata": {},
   "outputs": [
    {
     "name": "stdout",
     "output_type": "stream",
     "text": [
      "25/25 [==============================] - 4s 144ms/step - loss: 0.3867 - accuracy: 0.8550\n",
      "[0.3867143988609314, 0.8549618124961853]\n"
     ]
    }
   ],
   "source": [
    "test_accuracy = model.evaluate(validation_generator)\n",
    "print(test_accuracy)"
   ]
  },
  {
   "cell_type": "code",
   "execution_count": 28,
   "metadata": {},
   "outputs": [
    {
     "name": "stdout",
     "output_type": "stream",
     "text": [
      "25/25 [==============================] - 5s 159ms/step\n"
     ]
    },
    {
     "data": {
      "text/plain": [
       "array([[9.9964166e-01, 9.9972999e-01, 3.7932716e-06],\n",
       "       [3.4243655e-01, 7.2139800e-02, 9.7426504e-01],\n",
       "       [8.4632814e-01, 6.9588751e-01, 1.6129953e-01],\n",
       "       ...,\n",
       "       [9.9997830e-01, 9.9808192e-01, 6.3436837e-06],\n",
       "       [8.8271916e-01, 4.0384477e-01, 4.7918060e-01],\n",
       "       [3.4243655e-01, 7.2139800e-02, 9.7426504e-01]], dtype=float32)"
      ]
     },
     "execution_count": 28,
     "metadata": {},
     "output_type": "execute_result"
    }
   ],
   "source": [
    "preds = model.predict(validation_generator, verbose=1)\n",
    "preds"
   ]
  },
  {
   "cell_type": "code",
   "execution_count": 29,
   "metadata": {},
   "outputs": [
    {
     "name": "stdout",
     "output_type": "stream",
     "text": [
      "[[0. 0. 0.]\n",
      " [0. 0. 0.]\n",
      " [0. 0. 0.]\n",
      " ...\n",
      " [0. 0. 0.]\n",
      " [0. 0. 0.]\n",
      " [0. 0. 0.]]\n"
     ]
    }
   ],
   "source": [
    "predictions = preds.copy()\n",
    "predictions[predictions <= 0.5] = 0\n",
    "predictions[predictions > 0.5] = 1\n",
    "\n",
    "print(predictions)"
   ]
  },
  {
   "cell_type": "code",
   "execution_count": null,
   "metadata": {},
   "outputs": [],
   "source": []
  }
 ],
 "metadata": {
  "kernelspec": {
   "display_name": "Python 3",
   "language": "python",
   "name": "python3"
  },
  "language_info": {
   "codemirror_mode": {
    "name": "ipython",
    "version": 3
   },
   "file_extension": ".py",
   "mimetype": "text/x-python",
   "name": "python",
   "nbconvert_exporter": "python",
   "pygments_lexer": "ipython3",
   "version": "3.8.5"
  }
 },
 "nbformat": 4,
 "nbformat_minor": 4
}
